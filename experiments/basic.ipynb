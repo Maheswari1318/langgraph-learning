{
 "cells": [
  {
   "cell_type": "code",
   "execution_count": 12,
   "id": "15f25817",
   "metadata": {},
   "outputs": [],
   "source": [
    "from langchain_core.messages import SystemMessage,HumanMessage,AIMessage\n",
    "from langchain_openai import ChatOpenAI  # make sure this is installed\n"
   ]
  },
  {
   "cell_type": "code",
   "execution_count": null,
   "id": "be9f2680",
   "metadata": {},
   "outputs": [],
   "source": [
    "#take a few short prompt\n",
    "Message=[\n",
    "\n",
    "    SystemMessage(content=\"you are except in maths\"),\n",
    "    HumanMessage(content= \"have four apple i gave one for my sister still how many apple are their\"),\n",
    "    AIMessage(content=\"this refer to subraction,4-1=3\"),\n",
    "    HumanMessage(content=\"ramu has 20 pens but he took another 5 pens from his borther,now total how many pens are with ramus\"),\n",
    "    ]"
   ]
  },
  {
   "cell_type": "code",
   "execution_count": 14,
   "id": "fe512c38",
   "metadata": {},
   "outputs": [],
   "source": [
    "llm = ChatOpenAI(model=\"gpt-4o-mini\", temperature=0)"
   ]
  },
  {
   "cell_type": "code",
   "execution_count": 15,
   "id": "0a3af417",
   "metadata": {},
   "outputs": [],
   "source": [
    "response=llm.invoke(Message)"
   ]
  },
  {
   "cell_type": "code",
   "execution_count": 17,
   "id": "278af33e",
   "metadata": {},
   "outputs": [
    {
     "name": "stdout",
     "output_type": "stream",
     "text": [
      "==================================\u001b[1m Ai Message \u001b[0m==================================\n",
      "\n",
      "Ramu initially has 20 pens and then takes 5 more from his brother. \n",
      "\n",
      "So, the total number of pens Ramu has now is:\n",
      "\n",
      "20 + 5 = 25 pens.\n"
     ]
    }
   ],
   "source": [
    "response.pretty_print()"
   ]
  }
 ],
 "metadata": {
  "kernelspec": {
   "display_name": ".venv",
   "language": "python",
   "name": "python3"
  },
  "language_info": {
   "codemirror_mode": {
    "name": "ipython",
    "version": 3
   },
   "file_extension": ".py",
   "mimetype": "text/x-python",
   "name": "python",
   "nbconvert_exporter": "python",
   "pygments_lexer": "ipython3",
   "version": "3.11.13"
  }
 },
 "nbformat": 4,
 "nbformat_minor": 5
}
